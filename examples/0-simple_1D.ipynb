{
 "cells": [
  {
   "cell_type": "markdown",
   "metadata": {},
   "source": [
    "# HEP Plotter Gallery (1D)\n",
    "Below are a collection of simple examples that demonstrate the capabilities of hepPlotter.  \n",
    "This package is only meant to improve style and reduce time needed to make publication quality figures for HEP.  \n",
    "Where possible, the API for matplotlib is used directly (the default options are modified to better suit HEP plots).  However, the user should still retain enough control to modify plots as needed."
   ]
  },
  {
   "cell_type": "markdown",
   "metadata": {},
   "source": [
    "First, ensure the environment has the proper path for this setup.   Nominally this would be used inside a CMSSW environment, so the import statements will vary."
   ]
  },
  {
   "cell_type": "code",
   "execution_count": 1,
   "metadata": {
    "collapsed": true
   },
   "outputs": [],
   "source": [
    "import os\n",
    "import sys"
   ]
  },
  {
   "cell_type": "code",
   "execution_count": 2,
   "metadata": {},
   "outputs": [
    {
     "name": "stdout",
     "output_type": "stream",
     "text": [
      "Added /Users/demarley/Desktop/CERN/CMS/common/hepPlotter/python/ to path!\n"
     ]
    }
   ],
   "source": [
    "cwd = os.getcwd()\n",
    "hpd = cwd.rstrip(\"examples\")+\"python/\"\n",
    "if hpd not in sys.path:\n",
    "    sys.path.insert(0,hpd)\n",
    "    print(\"Added {0} to path!\".format(hpd))\n",
    "else:\n",
    "    print(\"Already exists in path!\")"
   ]
  },
  {
   "cell_type": "markdown",
   "metadata": {},
   "source": [
    "## One dimensional Histograms\n",
    "HEP plotter is designed to accept ROOT histograms (TH1 or TEfficiency) and then plot in a HEP-friendly format using matplotlib.  It is also possible to pass un-binned data directly (e.g., a numpy array) and a unique histogram will be generated.  However, by using histograms directly, HEP users can manipulate histograms using familiar analysis techniques before plotting them."
   ]
  },
  {
   "cell_type": "code",
   "execution_count": 3,
   "metadata": {},
   "outputs": [
    {
     "name": "stdout",
     "output_type": "stream",
     "text": [
      "Welcome to JupyROOT 6.10/02\n"
     ]
    },
    {
     "name": "stderr",
     "output_type": "stream",
     "text": [
      "/Users/demarley/anaconda2/lib/python2.7/site-packages/matplotlib/style/core.py:51: UserWarning: Style includes a parameter, 'backend', that is not related to style.  Ignoring\n",
      "  \"to style.  Ignoring\".format(key))\n"
     ]
    }
   ],
   "source": [
    "from histogram1D import Histogram1D\n",
    "import tools\n",
    "\n",
    "%matplotlib inline"
   ]
  },
  {
   "cell_type": "markdown",
   "metadata": {},
   "source": [
    "We will now load toy data (example.root) and show some basic plots that you can make using this framework."
   ]
  },
  {
   "cell_type": "code",
   "execution_count": 4,
   "metadata": {
    "collapsed": true
   },
   "outputs": [],
   "source": [
    "import ROOT\n",
    "# uproot integration is on-going"
   ]
  },
  {
   "cell_type": "code",
   "execution_count": 5,
   "metadata": {
    "collapsed": true
   },
   "outputs": [],
   "source": [
    "f = ROOT.TFile.Open(\"example.root\")"
   ]
  },
  {
   "cell_type": "code",
   "execution_count": 6,
   "metadata": {
    "collapsed": true
   },
   "outputs": [],
   "source": [
    "gauss   = f.Get(\"gauss\")   # standard ROOT histogram (TH1D)\n",
    "poisson = f.Get(\"poisson\") # standard ROOT histogram (TH1D)"
   ]
  },
  {
   "cell_type": "markdown",
   "metadata": {
    "collapsed": true
   },
   "source": [
    "In these examples we want to compare two distributions and demonstrate the following features:\n",
    "\n",
    "- style (errorbar/histogram)\n",
    "- Ratio plot\n",
    "- add extra text"
   ]
  },
  {
   "cell_type": "markdown",
   "metadata": {},
   "source": [
    "First, let's make a basic plot showing two histograms"
   ]
  },
  {
   "cell_type": "code",
   "execution_count": 7,
   "metadata": {},
   "outputs": [
    {
     "name": "stderr",
     "output_type": "stream",
     "text": [
      "/Users/demarley/anaconda2/lib/python2.7/site-packages/matplotlib/font_manager.py:1328: UserWarning: findfont: Font family [u'sans-serif'] not found. Falling back to DejaVu Sans\n",
      "  (prop.get_family(), self.defaultFamily[fontext]))\n"
     ]
    },
    {
     "data": {
      "image/png": "[encoded data removed]",
      "text/plain": [
       "<Figure size 432x288 with 1 Axes>"
      ]
     },
     "metadata": {},
     "output_type": "display_data"
    }
   ],
   "source": [
    "# Setup the plot (define some global settings)\n",
    "hist = Histogram1D()\n",
    "\n",
    "hist.normed  = True\n",
    "hist.stacked = False\n",
    "hist.x_label = \"x-label\"\n",
    "hist.y_label = \"A.U.\" if hist.normed else \"Events\"\n",
    "hist.saveAs  = \"hist1d_jupyter_example1\"\n",
    "hist.CMSlabel = 'top left'\n",
    "hist.CMSlabelStatus = \"Simulation\"\n",
    "\n",
    "hist.initialize()   # sets the parameters of the plot\n",
    "\n",
    "# Add 'possion' data to the plot from sample1\n",
    "hist.Add(poisson,name=\"poisson\",\n",
    "         draw_type='step',color='red',edgecolor=\"red\",\n",
    "         label=\"Poisson\")\n",
    "\n",
    "# Add 'gauss' data to the plot from sample2\n",
    "hist.Add(gauss,name=\"gauss\",\n",
    "         draw_type='step',color='blue',edgecolor=\"blue\",\n",
    "         label=\"Gaussian\")\n",
    "\n",
    "p = hist.execute() # make the plot (p represents the matplotlib 'figure' object)\n",
    "#hist.savefig()     # save the figure (with name \"hist.saveAs+hist.format\") and close it"
   ]
  },
  {
   "cell_type": "markdown",
   "metadata": {},
   "source": [
    "Let's plot the same histograms but change the plotting style to demonstrate how to pass matplotlib plotting options directly through hepPlotter."
   ]
  },
  {
   "cell_type": "code",
   "execution_count": 8,
   "metadata": {},
   "outputs": [
    {
     "name": "stderr",
     "output_type": "stream",
     "text": [
      "/Users/demarley/Desktop/CERN/CMS/common/hepPlotter/python/histogram1D.py:85: RuntimeWarning: invalid value encountered in divide\n",
      "  error = h_data.error * (data/og_data)  # scale error bars\n"
     ]
    },
    {
     "data": {
      "image/png": "[encoded data removed]",
      "text/plain": [
       "<Figure size 432x288 with 1 Axes>"
      ]
     },
     "metadata": {},
     "output_type": "display_data"
    }
   ],
   "source": [
    "# Setup the plot\n",
    "hist = Histogram1D()\n",
    "\n",
    "hist.normed  = True\n",
    "hist.stacked = False\n",
    "hist.x_label = \"x-label\"\n",
    "hist.y_label = \"A.U.\" if hist.normed else \"Events\"\n",
    "hist.saveAs  = \"hist1d_jupyter_example2\"\n",
    "hist.CMSlabel = 'top left'\n",
    "hist.CMSlabelStatus = \"Simulation\"\n",
    "\n",
    "hist.initialize()   # sets the parameters of the plot\n",
    "\n",
    "# Add 'possion' data to the plot from sample1\n",
    "hist.Add(poisson,name=\"poisson\",\n",
    "         draw_type='errorbar',label=\"Poisson\")\n",
    "\n",
    "# Add 'gauss' data to the plot from sample2\n",
    "hist.Add(gauss,name=\"gauss\",\n",
    "         draw_type='stepfilled',color='blue',alpha=0.5,\n",
    "         edgecolor=\"blue\",label=\"Gaussian\")\n",
    "\n",
    "p = hist.execute() # make the plot (p represents the matplotlib 'figure' object)\n",
    "#hist.savefig()     # save the figure (with name \"hist.saveAs+hist.format\") and close it"
   ]
  },
  {
   "cell_type": "markdown",
   "metadata": {},
   "source": [
    "We can also modify the axes to be log scale."
   ]
  },
  {
   "cell_type": "code",
   "execution_count": 15,
   "metadata": {},
   "outputs": [
    {
     "data": {
      "image/png": "[encoded data removed]",
      "text/plain": [
       "<Figure size 432x288 with 1 Axes>"
      ]
     },
     "metadata": {},
     "output_type": "display_data"
    }
   ],
   "source": [
    "# Setup the plot\n",
    "hist = Histogram1D()\n",
    "\n",
    "hist.normed  = True\n",
    "hist.logplot = {\"x\":False,\"y\":True}\n",
    "hist.stacked = False\n",
    "hist.x_label = \"x-label\"\n",
    "hist.y_label = \"A.U.\" if hist.normed else \"Events\"\n",
    "hist.saveAs  = \"hist1d_jupyter_example2\"\n",
    "hist.CMSlabel = 'top left'\n",
    "hist.CMSlabelStatus = \"Simulation\"\n",
    "\n",
    "# ** Options **\n",
    "# To rescale the axes, use this option:\n",
    "hist.xlim = (0,20)\n",
    "#hist.ylim = (4e-2,1e-1) # scale the y-axis\n",
    "# you may end up with/without unformatted minor ticks, in which case you can \n",
    "# enable this option to format the labels appropriately:\n",
    "#hist.format_minor_ticklabels = True\n",
    "\n",
    "hist.initialize()   # sets the parameters of the plot\n",
    "\n",
    "# Add 'possion' data to the plot from sample1\n",
    "hist.Add(poisson,name=\"poisson\",\n",
    "         draw_type='errorbar',label=\"Poisson\")\n",
    "\n",
    "# Add 'gauss' data to the plot from sample2\n",
    "hist.Add(gauss,name=\"gauss\",\n",
    "         draw_type='stepfilled',color='blue',alpha=0.5,\n",
    "         edgecolor=\"blue\",label=\"Gaussian\")\n",
    "\n",
    "p = hist.execute() # make the plot (p represents the matplotlib 'figure' object)\n",
    "#hist.savefig()     # save the figure (with name \"hist.saveAs+hist.format\") and close it"
   ]
  },
  {
   "cell_type": "markdown",
   "metadata": {},
   "source": [
    "#### Ratio Plots\n",
    "\n",
    "Now let's add a ratio plot to compare the two distributions.  \n",
    "There are two options:\n",
    "1. Ratio = A/B\n",
    "2. Significance = A/sqrt(B)\n",
    "\n",
    "(These can be modified or extended in the `PlotterHist1D` class.)  \n",
    "You need to tell hepPlotter which data will be used for the ratio calculation (the numerator/denominator).\n",
    "This can be achieved through the `ratio` attribute of `PlotterHist1D()`. \n",
    "This attribute represents the `PlotterRatio()` class, defined in `PlotterHist1D.py`,\n",
    "that contains simple attribute for storing information about what kind of ratio plot to make and what properties it will have.\n",
    "\n",
    "To add a subplot representing the ratio/significance of two distributions, you will need to add the following commands before `hist.execute()` is called:\n",
    "\n",
    "```\n",
    "hist.ratio.value  = \"ratio\"  # \"significance\"\n",
    "hist.ratio.ylabel = \"A/B\"    # r\"A/$\\sqrt{\\text{B}}$\"\n",
    "hist.ratio.Add(numerator='poisson',denominator='gauss',**kwargs)\n",
    "```\n",
    "where `**kwargs` represents a dictionary of matplotlib options that you can pass to hepPlotter.  Such a feature is necessary if you want to plot the ratio/significance with a different plotting style than the default style (the 'numerator').  \n",
    "An example is shown below."
   ]
  },
  {
   "cell_type": "code",
   "execution_count": 10,
   "metadata": {},
   "outputs": [
    {
     "name": "stderr",
     "output_type": "stream",
     "text": [
      "/Users/demarley/Desktop/CERN/CMS/common/hepPlotter/python/histogram1D.py:231: RuntimeWarning: divide by zero encountered in divide\n",
      "  ratio_data.data.content = (num_data / den_data).copy()\n",
      "/Users/demarley/Desktop/CERN/CMS/common/hepPlotter/python/histogram1D.py:231: RuntimeWarning: invalid value encountered in divide\n",
      "  ratio_data.data.content = (num_data / den_data).copy()\n",
      "/Users/demarley/Desktop/CERN/CMS/common/hepPlotter/python/histogram1D.py:232: RuntimeWarning: divide by zero encountered in divide\n",
      "  ratio_data.data.error   = (numerator.data.error / den_data).copy()\n",
      "/Users/demarley/Desktop/CERN/CMS/common/hepPlotter/python/histogram1D.py:232: RuntimeWarning: invalid value encountered in divide\n",
      "  ratio_data.data.error   = (numerator.data.error / den_data).copy()\n"
     ]
    },
    {
     "data": {
      "image/png": "[encoded data removed]",
      "text/plain": [
       "<Figure size 432x288 with 2 Axes>"
      ]
     },
     "metadata": {},
     "output_type": "display_data"
    }
   ],
   "source": [
    "# Setup the plot\n",
    "hist = Histogram1D()\n",
    "\n",
    "hist.normed  = False\n",
    "hist.stacked = False\n",
    "hist.x_label = \"x-label\"\n",
    "hist.y_label = \"A.U.\" if hist.normed else \"Events\"\n",
    "hist.saveAs  = \"hist1d_jupyter_example3\"\n",
    "hist.CMSlabel = 'top left'\n",
    "hist.CMSlabelStatus = \"Simulation\"\n",
    "\n",
    "# Ratio plot -- see `HepPlotterRatio()` for all options\n",
    "hist.ratio.value  = \"ratio\"      # \"significance\"\n",
    "hist.ratio.ylabel = \"A/B\"        # r\"A/$\\sqrt{\\text{B}}$\"\n",
    "hist.ratio.uncertainty = {\"normalize\":True,\"lw\":0,\n",
    "                          'facecolor':'g','zorder':10}\n",
    "\n",
    "hist.initialize()   # sets the parameters of the plot\n",
    "\n",
    "# Add 'possion' data to the plot from sample1\n",
    "hist.Add(poisson,name=\"poisson\",\n",
    "         draw_type='errorbar',mec='red',mfc=\"red\",ecolor='red',\n",
    "         label=\"Poisson\")\n",
    "\n",
    "# Add 'gauss' data to the plot from sample2\n",
    "hist.Add(gauss,name=\"gauss\",\n",
    "         draw_type='stepfilled',color='blue',lw=0,alpha=0.5,\n",
    "         edgecolor=\"blue\",label=\"Gaussian\")\n",
    "\n",
    "# Add ratio plot\n",
    "hist.ratio.Add(numerator='poisson',denominator='gauss',draw_type='step',edgecolor='r')\n",
    "\n",
    "p = hist.execute() # make the plot (p represents the matplotlib 'figure' object)\n",
    "#hist.savefig()     # save the figure (with name \"hist.saveAs+hist.format\") and close it"
   ]
  },
  {
   "cell_type": "markdown",
   "metadata": {},
   "source": [
    "These two plots aren't too similar, so you can see that the ratio is only ~1 for a few bins."
   ]
  },
  {
   "cell_type": "markdown",
   "metadata": {
    "collapsed": true
   },
   "source": [
    "Finally, let's add some extra text to the plot.  This can be useful when you need to add labels that describe an event selection, final state, or some other analysis-specific information."
   ]
  },
  {
   "cell_type": "code",
   "execution_count": 11,
   "metadata": {},
   "outputs": [
    {
     "name": "stderr",
     "output_type": "stream",
     "text": [
      "/Users/demarley/Desktop/CERN/CMS/common/hepPlotter/python/histogram1D.py:235: RuntimeWarning: divide by zero encountered in divide\n",
      "  ratio_data.data.content = (num_data / np.sqrt(den_data)).copy()\n",
      "/Users/demarley/Desktop/CERN/CMS/common/hepPlotter/python/histogram1D.py:235: RuntimeWarning: invalid value encountered in divide\n",
      "  ratio_data.data.content = (num_data / np.sqrt(den_data)).copy()\n"
     ]
    },
    {
     "data": {
      "image/png": "[encoded data removed]",
      "text/plain": [
       "<Figure size 432x288 with 2 Axes>"
      ]
     },
     "metadata": {},
     "output_type": "display_data"
    }
   ],
   "source": [
    "# Setup the plot\n",
    "hist = Histogram1D()\n",
    "\n",
    "hist.normed  = True\n",
    "hist.stacked = False\n",
    "hist.x_label = \"x-label\"\n",
    "hist.y_label = \"A.U.\" if hist.normed else \"Events\"\n",
    "hist.saveAs  = \"hist1d_jupyter_example4\"\n",
    "hist.CMSlabel = 'top left'\n",
    "hist.CMSlabelStatus = \"Simulation\"\n",
    "\n",
    "# Add extra text onto the plot\n",
    "# this is stored as a `PlotText()` object, defined in labels.py\n",
    "# - kwargs are defined in `Text()` of labels.py\n",
    "hist.extra_text.Add(\"Extra Text\",coords=[0.03,0.80])\n",
    "\n",
    "# Ratio plot -- see `HepPlotterRatio()` for all options\n",
    "hist.ratio.value  = \"significance\"         # \"ratio\" \n",
    "hist.ratio.ylabel = r\"A/$\\sqrt{\\text{B}}$\" # \"A/B\"\n",
    "\n",
    "hist.initialize()   # sets the parameters of the plot\n",
    "\n",
    "# Add 'possion' data to the plot from sample1\n",
    "hist.Add(poisson,name=\"poisson\",\n",
    "         draw_type='stepfilled',color='red',lw=0,alpha=0.5,\n",
    "         edgecolor=\"red\",label=\"Poisson\")\n",
    "\n",
    "# Add 'gauss' data to the plot from sample2\n",
    "hist.Add(gauss,name=\"gauss\",\n",
    "         draw_type='stepfilled',color='blue',lw=0,alpha=0.5,\n",
    "         edgecolor=\"blue\",label=\"Gaussian\")\n",
    "\n",
    "# Add ratio plot -- modify some options to test the results\n",
    "# NB: To switch plotting styles, use the keyword 'draw_type' just as in `hist.Add(...)`\n",
    "hist.ratio.Add(numerator='poisson',denominator='gauss',draw_type='errorbar')\n",
    "\n",
    "p = hist.execute() # make the plot (p represents the matplotlib 'figure' object)\n",
    "#hist.savefig()     # save the figure (with name \"hist.saveAs+hist.format\") and close it"
   ]
  },
  {
   "cell_type": "markdown",
   "metadata": {
    "collapsed": true
   },
   "source": [
    "## One dimensional Efficiency Plots\n",
    "Now that we have shown how to plot general histograms, let's look at TEfficiencies.  \n",
    "From our ROOT file we will load the TEfficiency that we want to plot.  \n",
    "The class `Efficiency1D` inherits from `Histogram1D` and adds just a few extra parameters specific to plotting TEfficiencies that is different from plotting TH1s."
   ]
  },
  {
   "cell_type": "code",
   "execution_count": 12,
   "metadata": {
    "collapsed": true
   },
   "outputs": [],
   "source": [
    "from efficiency1D import Efficiency1D\n",
    "eff = f.Get(\"eff\") # standard ROOT TEfficiency"
   ]
  },
  {
   "cell_type": "code",
   "execution_count": 13,
   "metadata": {},
   "outputs": [
    {
     "data": {
      "image/png": "[encoded data removed]",
      "text/plain": [
       "<Figure size 432x288 with 1 Axes>"
      ]
     },
     "metadata": {},
     "output_type": "display_data"
    }
   ],
   "source": [
    "# Setup the plot\n",
    "hist = Efficiency1D()\n",
    "\n",
    "hist.normed  = False\n",
    "hist.x_label = \"x-label\"\n",
    "hist.y_label = \"Eff\"\n",
    "hist.saveAs  = \"eff1d_jupyter_example1\"\n",
    "hist.CMSlabel = 'top left'\n",
    "hist.CMSlabelStatus = \"Simulation\"\n",
    "\n",
    "# Add extra text onto the plot\n",
    "# this is stored as a `PlotText()` object, defined in labels.py\n",
    "# - kwargs are defined in `Text()` of labels.py\n",
    "hist.extra_text.Add(\"Extra Text\",coords=[0.03,0.80])\n",
    "\n",
    "hist.initialize()   # sets the parameters of the plot\n",
    "\n",
    "# Add 'eff' data to the plot\n",
    "hist.Add(eff,name=\"eff\",\n",
    "         draw_type='errorbar',color='k',\n",
    "         label=\"Efficiency\")\n",
    "\n",
    "p = hist.execute() # make the plot (p represents the matplotlib 'figure' object)\n",
    "#hist.savefig()     # save the figure (with name \"hist.saveAs+hist.format\") and close it"
   ]
  },
  {
   "cell_type": "markdown",
   "metadata": {},
   "source": [
    "In addition to this simple plot, we can also plot TH1s with the TEfficiency.\n",
    "This is particular useful if you're plotting something like a trigger efficiency as a function of jet pT and you want to plot the underlying jet pT distribution.  \n",
    "To achieve this, simply include the histogram you want to also plot using the `hist.Add(...)` function."
   ]
  },
  {
   "cell_type": "code",
   "execution_count": 14,
   "metadata": {},
   "outputs": [
    {
     "data": {
      "image/png": "[encoded data removed]",
      "text/plain": [
       "<Figure size 432x288 with 2 Axes>"
      ]
     },
     "metadata": {},
     "output_type": "display_data"
    }
   ],
   "source": [
    "# Setup the plot\n",
    "hist = Efficiency1D()\n",
    "\n",
    "hist.normed  = False\n",
    "hist.x_label = \"x-label\"\n",
    "hist.y_label = \"Eff\"\n",
    "hist.saveAs  = \"eff1d_jupyter_example1\"\n",
    "hist.CMSlabel = 'top left'\n",
    "hist.CMSlabelStatus = \"Simulation\"\n",
    "\n",
    "# Add extra text onto the plot\n",
    "# this is stored as a `PlotText()` object, defined in labels.py\n",
    "# - kwargs are defined in `Text()` of labels.py\n",
    "hist.extra_text.Add(\"Extra Text\",coords=[0.03,0.80])\n",
    "\n",
    "hist.initialize()   # sets the parameters of the plot\n",
    "\n",
    "# Add 'eff' data to the plot\n",
    "hist.Add(eff,name=\"eff\",\n",
    "         draw_type='errorbar',color='k',\n",
    "         label=\"Efficiency\")\n",
    "\n",
    "# Add 'poisson' data as histogram ('underlying physics distribution')\n",
    "hist.Add(poisson,name=\"poisson\",\n",
    "         draw_type='step',edgecolor='red',\n",
    "         label=\"Poisson\")\n",
    "\n",
    "p = hist.execute() # make the plot (p represents the matplotlib 'figure' object)\n",
    "#hist.savefig()     # save the figure (with name \"hist.saveAs+hist.format\") and close it"
   ]
  },
  {
   "cell_type": "code",
   "execution_count": null,
   "metadata": {
    "collapsed": true
   },
   "outputs": [],
   "source": []
  }
 ],
 "metadata": {
  "kernelspec": {
   "display_name": "Python 2",
   "language": "python",
   "name": "python2"
  },
  "language_info": {
   "codemirror_mode": {
    "name": "ipython",
    "version": 2
   },
   "file_extension": ".py",
   "mimetype": "text/x-python",
   "name": "python",
   "nbconvert_exporter": "python",
   "pygments_lexer": "ipython2",
   "version": "2.7.11"
  }
 },
 "nbformat": 4,
 "nbformat_minor": 2
}
