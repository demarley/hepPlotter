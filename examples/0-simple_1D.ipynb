{
 "cells": [
  {
   "cell_type": "markdown",
   "metadata": {},
   "source": [
    "# HEP Plotter Gallery (1D)\n",
    "Below are a collection of simple examples that demonstrate the capabilities of hepPlotter.  \n",
    "This package is only meant to improve style and reduce time needed to make publication quality figures for HEP.  \n",
    "Where possible, the API for matplotlib is used directly (the default options are modified to better suit HEP plots).  However, the user should still retain enough control to modify plots as needed."
   ]
  },
  {
   "cell_type": "markdown",
   "metadata": {},
   "source": [
    "First, ensure the environment has the proper path."
   ]
  },
  {
   "cell_type": "code",
   "execution_count": 1,
   "metadata": {
    "collapsed": true
   },
   "outputs": [],
   "source": [
    "import os\n",
    "import sys"
   ]
  },
  {
   "cell_type": "code",
   "execution_count": 2,
   "metadata": {},
   "outputs": [
    {
     "name": "stdout",
     "output_type": "stream",
     "text": [
      "Added /Users/demarley/Desktop/CERN/CMS/common to path!\n"
     ]
    }
   ],
   "source": [
    "cwd = os.getcwd()\n",
    "hpd = cwd.rstrip(\"/hepPlotter/examples\")\n",
    "if hpd not in sys.path:\n",
    "    sys.path.insert(0,hpd)\n",
    "    print(\"Added {0} to path!\".format(hpd))\n",
    "else:\n",
    "    print(\"Already exists in path!\")"
   ]
  },
  {
   "cell_type": "markdown",
   "metadata": {},
   "source": [
    "## One dimensional Histograms\n",
    "hepPlotter is designed to accept ROOT histograms (TH1 or TEfficiency) and then plot in a HEP-friendly format using matplotlib.  It is also possible to pass un-binned data directly (e.g., a numpy array) and a unique histogram will be generated.  However, by using histograms directly, HEP users can manipulate histograms using familiar analysis techniques before plotting them."
   ]
  },
  {
   "cell_type": "code",
   "execution_count": 3,
   "metadata": {},
   "outputs": [
    {
     "name": "stdout",
     "output_type": "stream",
     "text": [
      "Welcome to JupyROOT 6.10/02\n"
     ]
    },
    {
     "name": "stderr",
     "output_type": "stream",
     "text": [
      "/Users/demarley/anaconda2/lib/python2.7/site-packages/matplotlib/style/core.py:51: UserWarning: Style includes a parameter, 'backend', that is not related to style.  Ignoring\n",
      "  \"to style.  Ignoring\".format(key))\n"
     ]
    }
   ],
   "source": [
    "from hepPlotter.hepPlotterHist1D import HepPlotterHist1D\n",
    "\n",
    "import hepPlotter.labels as labels\n",
    "import hepPlotter.tools as tools"
   ]
  },
  {
   "cell_type": "code",
   "execution_count": 4,
   "metadata": {
    "collapsed": true
   },
   "outputs": [],
   "source": [
    "variable_labels = labels.variable_labels()\n",
    "sample_labels   = labels.sample_labels()"
   ]
  },
  {
   "cell_type": "markdown",
   "metadata": {},
   "source": [
    "We will now load toy data (example.root) and show some basic plots that you can make using this framework."
   ]
  },
  {
   "cell_type": "code",
   "execution_count": 5,
   "metadata": {
    "collapsed": true
   },
   "outputs": [],
   "source": [
    "import ROOT\n",
    "# uproot integration is on-going"
   ]
  },
  {
   "cell_type": "code",
   "execution_count": 6,
   "metadata": {
    "collapsed": true
   },
   "outputs": [],
   "source": [
    "f = ROOT.TFile.Open(\"example.root\")"
   ]
  },
  {
   "cell_type": "code",
   "execution_count": 7,
   "metadata": {
    "collapsed": true
   },
   "outputs": [],
   "source": [
    "gauss   = f.Get(\"gauss\")\n",
    "poisson = f.Get(\"poisson\")"
   ]
  },
  {
   "cell_type": "markdown",
   "metadata": {
    "collapsed": true
   },
   "source": [
    "Compare two distributions.\n",
    "\n",
    "- Ratio plot\n",
    "- style (errorbar/histogram)\n",
    "- legend\n",
    "- add extra text\n",
    "- labels\n",
    "- data/mc (!!)"
   ]
  },
  {
   "cell_type": "code",
   "execution_count": 8,
   "metadata": {
    "collapsed": true
   },
   "outputs": [],
   "source": [
    "# set dummy values just to demonstrate the \"labels.py\" functionality\n",
    "feature = \"lep_pt\"\n",
    "sample1 = \"ttbar\"\n",
    "sample2 = \"wjets\""
   ]
  },
  {
   "cell_type": "markdown",
   "metadata": {},
   "source": [
    "Basic plot showing two histograms"
   ]
  },
  {
   "cell_type": "code",
   "execution_count": 9,
   "metadata": {},
   "outputs": [
    {
     "name": "stderr",
     "output_type": "stream",
     "text": [
      "/Users/demarley/anaconda2/lib/python2.7/site-packages/matplotlib/font_manager.py:1328: UserWarning: findfont: Font family [u'sans-serif'] not found. Falling back to DejaVu Sans\n",
      "  (prop.get_family(), self.defaultFamily[fontext]))\n"
     ]
    }
   ],
   "source": [
    "# Setup the plot (define some global settings)\n",
    "hist = HepPlotterHist1D()\n",
    "\n",
    "hist.normed  = True\n",
    "hist.stacked = False\n",
    "hist.x_label = variable_labels[feature].label\n",
    "hist.y_label = \"A.U.\" if hist.normed else \"Events\"\n",
    "hist.saveAs  = \"hist_\"+feature\n",
    "hist.CMSlabel = 'top left'\n",
    "hist.CMSlabelStatus = \"Simulation\"\n",
    "\n",
    "hist.initialize()   # sets the parameters of the plot\n",
    "\n",
    "# Add 'possion' data to the plot from sample1\n",
    "hist.Add(poisson,name=\"poisson\",\n",
    "         draw_type='step',color='red',edgecolor=\"red\",\n",
    "         label=sample_labels[sample1].label)\n",
    "\n",
    "# Add 'gauss' data to the plot from sample2\n",
    "hist.Add(gauss,name=\"gauss\",\n",
    "         draw_type='step',color='blue',edgecolor=\"blue\",\n",
    "         label=sample_labels[sample2].label)\n",
    "\n",
    "p = hist.execute() # make the plot (p represents the matplotlib 'figure' object)\n",
    "hist.savefig()     # save the figure (with name \"hist.saveAs+hist.format\") and close it"
   ]
  },
  {
   "cell_type": "code",
   "execution_count": 10,
   "metadata": {
    "scrolled": true
   },
   "outputs": [
    {
     "data": {
      "text/html": [
       "\n",
       "        <iframe\n",
       "            width=\"600\"\n",
       "            height=\"300\"\n",
       "            src=\"hist_lep_pt.pdf\"\n",
       "            frameborder=\"0\"\n",
       "            allowfullscreen\n",
       "        ></iframe>\n",
       "        "
      ],
      "text/plain": [
       "<IPython.lib.display.IFrame at 0x124c99850>"
      ]
     },
     "execution_count": 10,
     "metadata": {},
     "output_type": "execute_result"
    }
   ],
   "source": [
    "from IPython.display import IFrame\n",
    "IFrame(\"hist_lep_pt.pdf\", width=600, height=300)"
   ]
  },
  {
   "cell_type": "markdown",
   "metadata": {},
   "source": [
    "Let's plot the same histograms but change the plotting style to demonstrate how to pass matplotlib plotting options directly through hepPlotter."
   ]
  },
  {
   "cell_type": "code",
   "execution_count": 11,
   "metadata": {},
   "outputs": [
    {
     "name": "stderr",
     "output_type": "stream",
     "text": [
      "/Users/demarley/Desktop/CERN/CMS/common/hepPlotter/hepPlotterHist1D.py:81: RuntimeWarning: invalid value encountered in divide\n",
      "  error = h_data.error * (data/og_data)  # scale error bars\n"
     ]
    }
   ],
   "source": [
    "# Setup the plot\n",
    "hist = HepPlotterHist1D()\n",
    "\n",
    "hist.normed  = True\n",
    "hist.stacked = False\n",
    "hist.x_label = variable_labels[feature].label\n",
    "hist.y_label = \"A.U.\" if hist.normed else \"Events\"\n",
    "hist.saveAs  = \"hist_\"+feature\n",
    "hist.CMSlabel = 'top left'\n",
    "hist.CMSlabelStatus = \"Simulation\"\n",
    "\n",
    "hist.initialize()   # sets the parameters of the plot\n",
    "\n",
    "# Add 'possion' data to the plot from sample1\n",
    "hist.Add(poisson,name=\"poisson\",\n",
    "        draw_type='errorbar',color='red',edgecolor=\"red\",label=sample_labels[sample1].label)\n",
    "\n",
    "# Add 'gauss' data to the plot from sample2\n",
    "hist.Add(gauss,name=\"gauss\",\n",
    "         draw_type='stepfilled',color='blue',alpha=0.5,\n",
    "         edgecolor=\"blue\",label=sample_labels[sample2].label)\n",
    "\n",
    "p = hist.execute() # make the plot (p represents the matplotlib 'figure' object)\n",
    "hist.savefig()     # save the figure (with name \"hist.saveAs+hist.format\") and close it"
   ]
  },
  {
   "cell_type": "code",
   "execution_count": 12,
   "metadata": {},
   "outputs": [
    {
     "data": {
      "text/html": [
       "\n",
       "        <iframe\n",
       "            width=\"600\"\n",
       "            height=\"300\"\n",
       "            src=\"hist_lep_pt.pdf\"\n",
       "            frameborder=\"0\"\n",
       "            allowfullscreen\n",
       "        ></iframe>\n",
       "        "
      ],
      "text/plain": [
       "<IPython.lib.display.IFrame at 0x124c99a50>"
      ]
     },
     "execution_count": 12,
     "metadata": {},
     "output_type": "execute_result"
    }
   ],
   "source": [
    "IFrame(\"hist_lep_pt.pdf\", width=600, height=300)"
   ]
  },
  {
   "cell_type": "markdown",
   "metadata": {},
   "source": [
    "#### Ratio Plots\n",
    "\n",
    "Now let's add a ratio plot to compare the two distributions.  \n",
    "There are two options:\n",
    "1. Ratio = A/B\n",
    "2. Significance = A/sqrt(B)\n",
    "\n",
    "(These can be modified or extended in the `HepPlotterHist1D` class.)  \n",
    "You need to tell hepPlotter which data will be used for the ratio calculation (the numerator/denominator).\n",
    "This can be achieved through the `ratio` attribute of `HepPlotterHist1D()`. \n",
    "This attribute represents the `HepPlotterRatio()` class, defined in `HepPlotterHist1D.py`,\n",
    "that contains simple attribute for storing information about what kind of ratio plot to make and what properties it will have.\n",
    "\n",
    "To add a subplot representing the ratio/significance of two distributions, you will need to add the following commands before `hist.execute()` is called:\n",
    "\n",
    "```\n",
    "hist.ratio.value  = \"ratio\"  # \"significance\"\n",
    "hist.ratio.ylabel = \"A/B\"    # r\"A/$\\sqrt{\\text{B}}$\"\n",
    "hist.ratio.Add(numerator='poisson',denominator='gauss',**kwargs)\n",
    "```\n",
    "where `**kwargs` represents a dictionary of matplotlib options that you can pass to hepPlotter.  Such a feature is necessary if you want to plot the ratio/significance with a different plotting style than the default style (the 'numerator').  \n",
    "An example is shown below."
   ]
  },
  {
   "cell_type": "code",
   "execution_count": 13,
   "metadata": {},
   "outputs": [
    {
     "name": "stderr",
     "output_type": "stream",
     "text": [
      "/Users/demarley/Desktop/CERN/CMS/common/hepPlotter/hepPlotterHist1D.py:224: RuntimeWarning: divide by zero encountered in divide\n",
      "  ratio_data.data.content = (num_data / np.sqrt(den_data)).copy()\n",
      "/Users/demarley/Desktop/CERN/CMS/common/hepPlotter/hepPlotterHist1D.py:224: RuntimeWarning: invalid value encountered in divide\n",
      "  ratio_data.data.content = (num_data / np.sqrt(den_data)).copy()\n"
     ]
    }
   ],
   "source": [
    "# Setup the plot\n",
    "hist = HepPlotterHist1D()\n",
    "\n",
    "hist.ratio_plot = \"ratio\"\n",
    "hist.y_label_ratio = \"A/B\"\n",
    "hist.normed  = True\n",
    "hist.stacked = False\n",
    "hist.x_label = variable_labels[feature].label\n",
    "hist.y_label = \"A.U.\" if hist.normed else \"Events\"\n",
    "hist.saveAs  = \"hist_\"+feature\n",
    "hist.CMSlabel = 'top left'\n",
    "hist.CMSlabelStatus = \"Simulation\"\n",
    "\n",
    "# Ratio plot -- see `HepPlotterRatio()` for all options\n",
    "hist.ratio.value  = \"significance\"\n",
    "hist.ratio.ylabel = \"A/B\"\n",
    "\n",
    "hist.initialize()   # sets the parameters of the plot\n",
    "\n",
    "# Add 'possion' data to the plot from sample1\n",
    "hist.Add(poisson,name=\"poisson\",\n",
    "         draw_type='errorbar',color='red',edgecolor=\"red\",\n",
    "         label=sample_labels[sample1].label,ratios=[('gauss',True)]) # add 'ratios' keyword here\n",
    "\n",
    "# Add 'gauss' data to the plot from sample2\n",
    "hist.Add(gauss,name=\"gauss\",\n",
    "         draw_type='stepfilled',color='blue',alpha=0.5,\n",
    "         edgecolor=\"blue\",label=sample_labels[sample2].label)\n",
    "\n",
    "# Add ratio plot\n",
    "hist.ratio.Add(numerator='poisson',denominator='gauss')\n",
    "\n",
    "p = hist.execute() # make the plot (p represents the matplotlib 'figure' object)\n",
    "hist.savefig()     # save the figure (with name \"hist.saveAs+hist.format\") and close it"
   ]
  },
  {
   "cell_type": "code",
   "execution_count": 14,
   "metadata": {},
   "outputs": [
    {
     "data": {
      "text/html": [
       "\n",
       "        <iframe\n",
       "            width=\"600\"\n",
       "            height=\"300\"\n",
       "            src=\"hist_lep_pt.pdf\"\n",
       "            frameborder=\"0\"\n",
       "            allowfullscreen\n",
       "        ></iframe>\n",
       "        "
      ],
      "text/plain": [
       "<IPython.lib.display.IFrame at 0x124ca1410>"
      ]
     },
     "execution_count": 14,
     "metadata": {},
     "output_type": "execute_result"
    }
   ],
   "source": [
    "IFrame(\"hist_lep_pt.pdf\", width=600, height=300)"
   ]
  },
  {
   "cell_type": "markdown",
   "metadata": {},
   "source": [
    "These two plots aren't too similar, so you can see that the ratio is only ~1 for a few bins."
   ]
  },
  {
   "cell_type": "markdown",
   "metadata": {
    "collapsed": true
   },
   "source": [
    "Finally, let's add some extra text to the plot.  This can be useful when you need to add labels that describe an event selection, final state, or some other analysis-specific information."
   ]
  },
  {
   "cell_type": "code",
   "execution_count": 19,
   "metadata": {},
   "outputs": [],
   "source": [
    "# Setup the plot\n",
    "hist = HepPlotterHist1D()\n",
    "\n",
    "hist.ratio_plot = \"ratio\"\n",
    "hist.y_label_ratio = \"A/B\"\n",
    "hist.normed  = True\n",
    "hist.stacked = False\n",
    "hist.x_label = variable_labels[feature].label\n",
    "hist.y_label = \"A.U.\" if hist.normed else \"Events\"\n",
    "hist.saveAs  = \"hist_\"+feature\n",
    "hist.CMSlabel = 'top left'\n",
    "hist.CMSlabelStatus = \"Simulation\"\n",
    "\n",
    "# Add extra text onto the plot\n",
    "# this is stored as a `PlotText()` object, defined in labels.py\n",
    "# - kwargs are defined in `Text()` of labels.py\n",
    "hist.extra_text.Add(\"Extra Text\",coords=[0.03,0.80])\n",
    "\n",
    "# Ratio plot -- see `HepPlotterRatio()` for all options\n",
    "hist.ratio.value  = \"significance\"         # \"ratio\" \n",
    "hist.ratio.ylabel = r\"A/$\\sqrt{\\text{B}}$\" # \"A/B\"\n",
    "\n",
    "hist.initialize()   # sets the parameters of the plot\n",
    "\n",
    "# Add 'possion' data to the plot from sample1\n",
    "hist.Add(poisson,name=\"poisson\",\n",
    "         draw_type='stepfilled',color='red',lw=0,alpha=0.5,\n",
    "         edgecolor=\"red\",label=sample_labels[sample1].label,\n",
    "         ratios=[('gauss',True)]) # add 'ratios' keyword here\n",
    "\n",
    "# Add 'gauss' data to the plot from sample2\n",
    "hist.Add(gauss,name=\"gauss\",\n",
    "         draw_type='stepfilled',color='blue',alpha=0.5,\n",
    "         edgecolor=\"blue\",label=sample_labels[sample2].label)\n",
    "\n",
    "# Add ratio plot -- modify some options to test the results\n",
    "# NB: To switch plotting styles, use the keyword 'draw_type' just as in `hist.Add(...)`\n",
    "hist.ratio.Add(numerator='poisson',denominator='gauss',lw=2,draw_type='errorbar')\n",
    "\n",
    "p = hist.execute() # make the plot (p represents the matplotlib 'figure' object)\n",
    "hist.savefig()     # save the figure (with name \"hist.saveAs+hist.format\") and close it"
   ]
  },
  {
   "cell_type": "code",
   "execution_count": 20,
   "metadata": {},
   "outputs": [
    {
     "data": {
      "text/html": [
       "\n",
       "        <iframe\n",
       "            width=\"600\"\n",
       "            height=\"300\"\n",
       "            src=\"hist_lep_pt.pdf\"\n",
       "            frameborder=\"0\"\n",
       "            allowfullscreen\n",
       "        ></iframe>\n",
       "        "
      ],
      "text/plain": [
       "<IPython.lib.display.IFrame at 0x124c99c50>"
      ]
     },
     "execution_count": 20,
     "metadata": {},
     "output_type": "execute_result"
    }
   ],
   "source": [
    "IFrame(\"hist_lep_pt.pdf\", width=600, height=300)"
   ]
  },
  {
   "cell_type": "code",
   "execution_count": null,
   "metadata": {
    "collapsed": true
   },
   "outputs": [],
   "source": []
  }
 ],
 "metadata": {
  "kernelspec": {
   "display_name": "Python 2",
   "language": "python",
   "name": "python2"
  },
  "language_info": {
   "codemirror_mode": {
    "name": "ipython",
    "version": 2
   },
   "file_extension": ".py",
   "mimetype": "text/x-python",
   "name": "python",
   "nbconvert_exporter": "python",
   "pygments_lexer": "ipython2",
   "version": "2.7.11"
  }
 },
 "nbformat": 4,
 "nbformat_minor": 2
}
