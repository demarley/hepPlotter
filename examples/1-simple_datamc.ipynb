{
 "cells": [
  {
   "cell_type": "markdown",
   "metadata": {},
   "source": [
    "# HEP Plotter Gallery (1D Data/MC)\n",
    "Below are a collection of simple examples that demonstrate the capabilities of hepPlotter for plots comparing data and prediction, referred to as 'data/mc' plots.  \n",
    "This package is only meant to improve style and reduce time needed to make publication quality figures for HEP.  \n",
    "Where possible, the API for matplotlib is used directly (the default options are modified to better suit HEP plots).  However, the user should still retain enough control to modify plots as needed."
   ]
  },
  {
   "cell_type": "markdown",
   "metadata": {},
   "source": [
    "First, ensure the environment has the proper path for this setup.   Nominally this would be used inside a CMSSW environment, so the import statements will vary."
   ]
  },
  {
   "cell_type": "code",
   "execution_count": 1,
   "metadata": {
    "collapsed": true
   },
   "outputs": [],
   "source": [
    "import os\n",
    "import sys"
   ]
  },
  {
   "cell_type": "code",
   "execution_count": 2,
   "metadata": {},
   "outputs": [
    {
     "name": "stdout",
     "output_type": "stream",
     "text": [
      "Added /Users/demarley/Desktop/CERN/CMS/common to path!\n"
     ]
    }
   ],
   "source": [
    "cwd = os.getcwd()\n",
    "hpd = cwd.rstrip(\"/hepPlotter/examples\")\n",
    "if hpd not in sys.path:\n",
    "    sys.path.insert(0,hpd)\n",
    "    print(\"Added {0} to path!\".format(hpd))\n",
    "else:\n",
    "    print(\"Already exists in path!\")"
   ]
  },
  {
   "cell_type": "code",
   "execution_count": 3,
   "metadata": {},
   "outputs": [
    {
     "name": "stdout",
     "output_type": "stream",
     "text": [
      "Welcome to JupyROOT 6.10/02\n"
     ]
    },
    {
     "name": "stderr",
     "output_type": "stream",
     "text": [
      "/Users/demarley/anaconda2/lib/python2.7/site-packages/matplotlib/style/core.py:51: UserWarning: Style includes a parameter, 'backend', that is not related to style.  Ignoring\n",
      "  \"to style.  Ignoring\".format(key))\n"
     ]
    }
   ],
   "source": [
    "from hepPlotter.histogram1D import Histogram1D\n",
    "import hepPlotter.tools as tools\n",
    "\n",
    "%matplotlib inline"
   ]
  },
  {
   "cell_type": "markdown",
   "metadata": {},
   "source": [
    "We will now load toy data (example.root) and show a basic data/mc plot that you can make using this framework."
   ]
  },
  {
   "cell_type": "code",
   "execution_count": 4,
   "metadata": {
    "collapsed": true
   },
   "outputs": [],
   "source": [
    "import ROOT\n",
    "# uproot integration is on-going"
   ]
  },
  {
   "cell_type": "code",
   "execution_count": 5,
   "metadata": {
    "collapsed": true
   },
   "outputs": [],
   "source": [
    "f = ROOT.TFile.Open(\"example.root\")"
   ]
  },
  {
   "cell_type": "code",
   "execution_count": 6,
   "metadata": {
    "collapsed": true
   },
   "outputs": [],
   "source": [
    "gauss   = f.Get(\"gauss\")   # standard ROOT histogram (TH1D)\n",
    "poisson = f.Get(\"poisson\") # standard ROOT histogram (TH1D)"
   ]
  },
  {
   "cell_type": "markdown",
   "metadata": {},
   "source": [
    "#### Data/MC Plots\n",
    "\n",
    "We will compare our prediction (\"MC\") with Data using the ratio plot capabilities of the hepPlotter framework.\n",
    "\n",
    "_NB: An separate hepPlotterDataMC class is under development. In the meantime, simple data/mc plots can be made using the Histogram1D class_"
   ]
  },
  {
   "cell_type": "code",
   "execution_count": 7,
   "metadata": {
    "collapsed": true
   },
   "outputs": [],
   "source": [
    "# Set total total MC to be the sum of `gauss` and `poisson`\n",
    "# Here we are assuming 'gauss' and 'poisson' are the background samples\n",
    "totalMC = gauss.Clone()\n",
    "_ = totalMC.Add(poisson)"
   ]
  },
  {
   "cell_type": "code",
   "execution_count": 8,
   "metadata": {
    "collapsed": true
   },
   "outputs": [],
   "source": [
    "# Do some sampling of the total MC value to generate pseudo-data\n",
    "# for this example\n",
    "import numpy as np\n",
    "mu    = 1\n",
    "sigma = 0.2\n",
    "data  = totalMC.Clone()\n",
    "\n",
    "for b in range(data.GetNbinsX()):\n",
    "    content = int( np.random.normal(mu,sigma) * data.GetBinContent(b+1) )\n",
    "    data.SetBinContent(b+1,content)\n",
    "    data.SetBinError(b+1,np.sqrt(content))"
   ]
  },
  {
   "cell_type": "markdown",
   "metadata": {},
   "source": [
    "Now plot the MC prediction (gauss+poisson) with the 'data'"
   ]
  },
  {
   "cell_type": "code",
   "execution_count": 9,
   "metadata": {
    "scrolled": false
   },
   "outputs": [
    {
     "name": "stderr",
     "output_type": "stream",
     "text": [
      "/Users/demarley/Desktop/CERN/CMS/common/hepPlotter/histogram1D.py:220: RuntimeWarning: invalid value encountered in divide\n",
      "  ratio_data.data.content = (num_data / den_data).copy()\n",
      "/Users/demarley/Desktop/CERN/CMS/common/hepPlotter/histogram1D.py:221: RuntimeWarning: invalid value encountered in divide\n",
      "  ratio_data.data.error   = (numerator.data.error / den_data).copy()\n",
      "/Users/demarley/anaconda2/lib/python2.7/site-packages/matplotlib/font_manager.py:1328: UserWarning: findfont: Font family [u'sans-serif'] not found. Falling back to DejaVu Sans\n",
      "  (prop.get_family(), self.defaultFamily[fontext]))\n"
     ]
    },
    {
     "data": {
      "image/png": "[encoded data removed]",
      "text/plain": [
       "<Figure size 432x288 with 2 Axes>"
      ]
     },
     "metadata": {},
     "output_type": "display_data"
    }
   ],
   "source": [
    "# Setup the plot\n",
    "hist = Histogram1D()\n",
    "\n",
    "hist.ratio_plot = \"ratio\"\n",
    "hist.y_label_ratio = \"A/B\"\n",
    "hist.normed  = False\n",
    "hist.stacked = True\n",
    "hist.axis_scale['y'] = 1.0 # adjust the vertical scale of the plot\n",
    "hist.x_label = \"x-label\"\n",
    "hist.y_label = \"A.U.\" if hist.normed else \"Events\"\n",
    "hist.saveAs  = \"hist_datamc_jupyter_example\"\n",
    "hist.CMSlabel = 'top left'\n",
    "hist.CMSlabelStatus = \"Internal\"\n",
    "\n",
    "# Add extra text onto the plot\n",
    "# this is stored as a `PlotText()` object, defined in labels.py\n",
    "# - kwargs are defined in `Text()` of labels.py\n",
    "hist.extra_text.Add(\"Extra Text\",coords=[0.03,0.80])\n",
    "\n",
    "# Ratio plot -- see `HepPlotterRatio()` for all options\n",
    "hist.ratio.value  = \"ratio\"\n",
    "hist.ratio.ylabel = \"Data/MC\"\n",
    "\n",
    "hist.initialize()   # sets the parameters of the plot\n",
    "\n",
    "# Add 'possion' data to the plot from sample1\n",
    "hist.Add(poisson,name=\"poisson\",\n",
    "         draw_type='stepfilled',color='red',lw=1,\n",
    "         edgecolor=\"k\",label=\"Poisson\")\n",
    "\n",
    "# Add 'gauss' data to the plot from sample2\n",
    "hist.Add(gauss,name=\"gauss\",\n",
    "         draw_type='stepfilled',color='blue',lw=1,\n",
    "         edgecolor=\"k\",label=\"Gaussian\")\n",
    "\n",
    "# Add total MC as dummy data (stacked gauss & poisson contributions)\n",
    "hist.Add(totalMC,name=\"totalMC\",\n",
    "         draw_type='step',lw=0,alpha=0,\n",
    "         edgecolor=\"k\",label=None)\n",
    "\n",
    "# Add data (defined above) -- here we're using the same as total MC\n",
    "hist.Add(data,name=\"data\",\n",
    "         draw_type='errorbar',label=\"Data\")\n",
    "\n",
    "# Add ratio plot -- modify some options to test the results\n",
    "# NB: To switch plotting styles, use the keyword 'draw_type' just as in `hist.Add(...)`\n",
    "hist.ratio.Add(numerator='data',denominator='totalMC',draw_type='errorbar')\n",
    "\n",
    "p = hist.execute() # make the plot (p represents the matplotlib 'figure' object)\n",
    "#hist.savefig()     # save the figure (with name \"hist.saveAs+hist.format\") and close it"
   ]
  },
  {
   "cell_type": "code",
   "execution_count": null,
   "metadata": {
    "collapsed": true
   },
   "outputs": [],
   "source": []
  }
 ],
 "metadata": {
  "kernelspec": {
   "display_name": "Python 2",
   "language": "python",
   "name": "python2"
  },
  "language_info": {
   "codemirror_mode": {
    "name": "ipython",
    "version": 2
   },
   "file_extension": ".py",
   "mimetype": "text/x-python",
   "name": "python",
   "nbconvert_exporter": "python",
   "pygments_lexer": "ipython2",
   "version": "2.7.11"
  }
 },
 "nbformat": 4,
 "nbformat_minor": 2
}
