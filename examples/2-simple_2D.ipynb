{
 "cells": [
  {
   "cell_type": "markdown",
   "metadata": {},
   "source": [
    "# HEP Plotter Gallery (2D)\n",
    "Below are a collection of simple examples that demonstrate the capabilities of hepPlotter.  \n",
    "This package is only meant to improve style and reduce time needed to make publication quality figures for HEP.  \n",
    "Where possible, the API for matplotlib is used directly (the default options are modified to better suit HEP plots).  However, the user should still retain enough control to modify plots as needed."
   ]
  },
  {
   "cell_type": "markdown",
   "metadata": {},
   "source": [
    "First, ensure the environment has the proper path for this setup.   Nominally this would be used inside a CMSSW environment, so the import statements will vary."
   ]
  },
  {
   "cell_type": "code",
   "execution_count": 2,
   "metadata": {
    "collapsed": true
   },
   "outputs": [],
   "source": [
    "import os\n",
    "import sys"
   ]
  },
  {
   "cell_type": "code",
   "execution_count": 3,
   "metadata": {},
   "outputs": [
    {
     "name": "stdout",
     "output_type": "stream",
     "text": [
      "Added /Users/demarley/Desktop/CERN/CMS/common/hepPlotter/python/ to path!\n"
     ]
    }
   ],
   "source": [
    "cwd = os.getcwd()\n",
    "hpd = cwd.rstrip(\"/examples\")+\"/python/\"\n",
    "if hpd not in sys.path:\n",
    "    sys.path.insert(0,hpd)\n",
    "    print(\"Added {0} to path!\".format(hpd))\n",
    "else:\n",
    "    print(\"Already exists in path!\")"
   ]
  },
  {
   "cell_type": "markdown",
   "metadata": {},
   "source": [
    "## Two dimensional Histograms\n",
    "HEP plotter is designed to accept ROOT histograms (TH1 or TEfficiency) and then plot in a HEP-friendly format using matplotlib.  It is also possible to pass un-binned data directly (e.g., a numpy array) and a unique histogram will be generated.  However, by using histograms directly, HEP users can manipulate histograms using familiar analysis techniques before plotting them."
   ]
  },
  {
   "cell_type": "code",
   "execution_count": 5,
   "metadata": {},
   "outputs": [
    {
     "name": "stdout",
     "output_type": "stream",
     "text": [
      "Welcome to JupyROOT 6.10/02\n"
     ]
    },
    {
     "name": "stderr",
     "output_type": "stream",
     "text": [
      "/Users/demarley/anaconda2/lib/python2.7/site-packages/matplotlib/style/core.py:51: UserWarning: Style includes a parameter, 'backend', that is not related to style.  Ignoring\n",
      "  \"to style.  Ignoring\".format(key))\n"
     ]
    }
   ],
   "source": [
    "from histogram2D import Histogram2D\n",
    "import tools as tools\n",
    "\n",
    "%matplotlib inline"
   ]
  },
  {
   "cell_type": "markdown",
   "metadata": {},
   "source": [
    "We will now load toy data (example.root) and show some basic plots that you can make using this framework."
   ]
  },
  {
   "cell_type": "code",
   "execution_count": 6,
   "metadata": {
    "collapsed": true
   },
   "outputs": [],
   "source": [
    "import ROOT\n",
    "# uproot integration is on-going"
   ]
  },
  {
   "cell_type": "code",
   "execution_count": 7,
   "metadata": {
    "collapsed": true
   },
   "outputs": [],
   "source": [
    "f = ROOT.TFile.Open(\"example.root\")"
   ]
  },
  {
   "cell_type": "code",
   "execution_count": 8,
   "metadata": {
    "collapsed": true
   },
   "outputs": [],
   "source": [
    "th2_data = f.Get(\"th2\")   # standard ROOT histogram (TH2D)"
   ]
  },
  {
   "cell_type": "markdown",
   "metadata": {
    "collapsed": true
   },
   "source": [
    "In these examples we want to demonstrate the following features:\n",
    "\n",
    "- colormap\n",
    "- colorbar\n",
    "- write bin yields/errors"
   ]
  },
  {
   "cell_type": "markdown",
   "metadata": {},
   "source": [
    "First, let's make a basic plot showing the two-dimensional histogram"
   ]
  },
  {
   "cell_type": "code",
   "execution_count": 9,
   "metadata": {
    "scrolled": true
   },
   "outputs": [
    {
     "name": "stderr",
     "output_type": "stream",
     "text": [
      "/Users/demarley/anaconda2/lib/python2.7/site-packages/matplotlib/font_manager.py:1328: UserWarning: findfont: Font family [u'sans-serif'] not found. Falling back to DejaVu Sans\n",
      "  (prop.get_family(), self.defaultFamily[fontext]))\n"
     ]
    },
    {
     "data": {
      "image/png": "[encoded data removed]",
      "text/plain": [
       "<Figure size 432x288 with 2 Axes>"
      ]
     },
     "metadata": {},
     "output_type": "display_data"
    }
   ],
   "source": [
    "# Setup the plot (define some global settings)\n",
    "hist = Histogram2D()\n",
    "\n",
    "hist.normed  = False\n",
    "hist.x_label = \"x-label\"\n",
    "hist.y_label = \"y-label\"\n",
    "hist.saveAs  = \"hist2d_jupyter_example\"\n",
    "hist.CMSlabel = 'outer'\n",
    "hist.CMSlabelStatus = \"Simulation Internal\"\n",
    "hist.logplot['data'] = False\n",
    "\n",
    "# Set properties unique to 2D histogram\n",
    "hist.colormap = 'default'          # options are defined in `setColormap()` of histogram2D.py\n",
    "hist.colorbar['title'] = \"Events\"  # text label for colorbar\n",
    "\n",
    "hist.initialize()   # sets the parameters of the plot\n",
    "\n",
    "# Add TH2 data to the plot from sample1\n",
    "hist.Add(th2_data,name=\"th2\")\n",
    "\n",
    "p = hist.execute() # make the plot (p represents the matplotlib 'figure' object)\n",
    "#hist.savefig()     # save the figure (with name \"hist.saveAs+hist.format\") and close it"
   ]
  },
  {
   "cell_type": "markdown",
   "metadata": {},
   "source": [
    "We can also modify the structure of the plot by rebinning the contents.  \n",
    "To do this, we need to load the `array` module.\n",
    "\n",
    "_NB: It is possible to change the limits of the plot, but there seems to be issues with the frame of the figure if the limits go lower than the histogram -- feel free to try this yourself by modifying `hist.xlim`._"
   ]
  },
  {
   "cell_type": "code",
   "execution_count": 10,
   "metadata": {
    "collapsed": true
   },
   "outputs": [],
   "source": [
    "from array import array"
   ]
  },
  {
   "cell_type": "code",
   "execution_count": 17,
   "metadata": {},
   "outputs": [
    {
     "data": {
      "image/png": "[encoded data removed]",
      "text/plain": [
       "<Figure size 432x288 with 2 Axes>"
      ]
     },
     "metadata": {},
     "output_type": "display_data"
    }
   ],
   "source": [
    "# Setup the plot (define some global settings)\n",
    "hist = Histogram2D()\n",
    "\n",
    "hist.normed  = False\n",
    "hist.rebin   = {'x':array('d',range(1,9)),'y':array('d',range(13))}\n",
    "hist.x_label = \"x-label\"\n",
    "hist.y_label = \"y-label\"\n",
    "hist.saveAs  = \"hist2d_jupyter_example\"\n",
    "hist.CMSlabel = 'outer'\n",
    "hist.CMSlabelStatus = \"Simulation Internal\"\n",
    "hist.logplot['data'] = False\n",
    "\n",
    "# Set properties unique to 2D histogram\n",
    "hist.colormap = 'default'          # options are defined in `setColormap()` of histogram2D.py\n",
    "hist.colorbar['title'] = \"Events\"  # text label for colorbar\n",
    "\n",
    "hist.initialize()   # sets the parameters of the plot\n",
    "\n",
    "# Add TH2 data to the plot from sample1\n",
    "hist.Add(th2_data,name=\"th2\")\n",
    "\n",
    "p = hist.execute() # make the plot (p represents the matplotlib 'figure' object)\n",
    "#hist.savefig()     # save the figure (with name \"hist.saveAs+hist.format\") and close it"
   ]
  },
  {
   "cell_type": "code",
   "execution_count": null,
   "metadata": {
    "collapsed": true
   },
   "outputs": [],
   "source": []
  }
 ],
 "metadata": {
  "kernelspec": {
   "display_name": "Python 2",
   "language": "python",
   "name": "python2"
  },
  "language_info": {
   "codemirror_mode": {
    "name": "ipython",
    "version": 2
   },
   "file_extension": ".py",
   "mimetype": "text/x-python",
   "name": "python",
   "nbconvert_exporter": "python",
   "pygments_lexer": "ipython2",
   "version": "2.7.11"
  }
 },
 "nbformat": 4,
 "nbformat_minor": 2
}
